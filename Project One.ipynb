{
 "cells": [
  {
   "cell_type": "code",
   "execution_count": 111,
   "id": "31aa1145",
   "metadata": {},
   "outputs": [
    {
     "name": "stdout",
     "output_type": "stream",
     "text": [
      "[\"TITLE\\n'Credit Card Swipe Fees Are Going Down. Are Points Going With Them?,'\\nDESCRIPTION\\n',A new agreement by Visa and Mastercard to reduce fees charged to merchants may drain the lucrative rewards that grant free travel to many credit card users.\", \"TITLE\\n'No Eclipse Plans? Try These Last-Minute Strategies.,'\\nDESCRIPTION\\n',On April 8, parts of 13 U.S. states, Mexico and Canada will plunge into midday darkness. Miss this spectacle and you’ll have to wait till 2044 for the next one so close to home.\", \"TITLE\\n'Can Reed Hastings Disrupt Skiing?,'\\nDESCRIPTION\\n',The Netflix co-founder bought Powder Mountain, in Utah, and is turning half of it into a private club for wealthy homeowners who pay a hefty annual fee. Will the public-private model fly?\", \"TITLE\\n'5 New Hotels Where the Past Meets the Present,'\\nDESCRIPTION\\n',Turrets, towers and tapestries greet guests at these evocative hotels in reimagined historic buildings in London, New York and beyond. (The food’s not bad, either.)\", \"TITLE\\n'36 Hours in Mumbai,'\\nDESCRIPTION\\n',Explore ancient caves, catch a concert in a former textile mill, feast on mangoes and go on a poetry crawl in this fast-changing Indian city.\", \"TITLE\\n'Bold Tiles in 64 Different Shades,'\\nDESCRIPTION\\n',Plus: a Venetian retreat, hand-knotted rugs and more recommendations from T Magazine.\", \"TITLE\\n'Vacation Rentals: How to Shrink Your Carbon Footprint,'\\nDESCRIPTION\\n',Tips on finding a sustainable short-term rental, what you can do to conserve energy and getting involved in the community.\", \"TITLE\\n'Gardens of Stone, Moss, Sand: 4 Moments of Zen in Kyoto,'\\nDESCRIPTION\\n',The city’s dry gardens seem timeless, but as these relatively new versions show, their design is still evolving. They offer spots for quiet contemplation in an increasingly overtouristed city.\", \"TITLE\\n'Aurora Tourism in Iceland: You Can Seek, but You May Not Find,'\\nDESCRIPTION\\n',The country markets itself as a destination to see the northern lights — especially this year, which is a peak time for solar activity. But they can be elusive, as one writer recently found.\", \"TITLE\\n'How Do You Paddle a Disappearing River?,'\\nDESCRIPTION\\n',Canoeing the Rio Grande near Big Bend National Park can be magical. But as the river dries, it’s getting harder to find where a boat will actually float.\"]\n"
     ]
    }
   ],
   "source": [
    "import requests\n",
    "import pandas as pd\n",
    "\n",
    "\n",
    "#things used for fetching and executing \n",
    "def get_article(from_date, to_date='', section='' ,language='en',api_key='iULpCnOmS08rc0Y5n0iF1Wu4eMn00Ip8'):\n",
    "\n",
    "   \n",
    "    url = f\"https://api.nytimes.com/svc/search/v2/articlesearch.json?q={section}&from={from_date}&to={to_date}&language={language}&api-key={api_key}\"\n",
    "    \n",
    "    r = requests.get(url) #telling python to say you need these to get those articles.\n",
    "    \n",
    "    \n",
    "    \n",
    "    \n",
    "    #seeing if the request was working\n",
    "    if r.status_code != 200:\n",
    "        print(f\"Error: {r.status_code}\")\n",
    "        print (r.text)\n",
    "        return []\n",
    "    \n",
    "    \n",
    "    data = r.json() #will be returning those articles in json format. \n",
    "    articles = data.get('response',{}).get('docs',[])  \n",
    "    \n",
    "    #seeing if the artile has something or not \n",
    "    if not articles :\n",
    "        print(\"Article not found.\")\n",
    "        return []\n",
    "    \n",
    "    results = []\n",
    "    \n",
    "    \n",
    "    for article in articles: #format that the article will be printed as.\n",
    "        headline = article.get('headline',{}).get('main', 'No title avaiable')\n",
    "        snippet = article.get('snippet', 'No description available')\n",
    "        results.append(f\"TITLE\\n'{headline},'\\nDESCRIPTION\\n',{snippet}\")\n",
    "        \n",
    "    return results #calling the func. \n",
    "\n",
    "#now gonna fetch the articles. \n",
    "\n",
    "\n",
    "print (get_article('2023-11-07', to_date = '2024-02-02',section='travel'))\n",
    "\n"
   ]
  },
  {
   "cell_type": "code",
   "execution_count": 115,
   "id": "def58b9b",
   "metadata": {},
   "outputs": [
    {
     "name": "stdout",
     "output_type": "stream",
     "text": [
      "[\"TITLE\\n'Credit Card Swipe Fees Are Going Down. Are Points Going With Them?,'\\nDESCRIPTION\\n',A new agreement by Visa and Mastercard to reduce fees charged to merchants may drain the lucrative rewards that grant free travel to many credit card users.\", \"TITLE\\n'No Eclipse Plans? Try These Last-Minute Strategies.,'\\nDESCRIPTION\\n',On April 8, parts of 13 U.S. states, Mexico and Canada will plunge into midday darkness. Miss this spectacle and you’ll have to wait till 2044 for the next one so close to home.\", \"TITLE\\n'Can Reed Hastings Disrupt Skiing?,'\\nDESCRIPTION\\n',The Netflix co-founder bought Powder Mountain, in Utah, and is turning half of it into a private club for wealthy homeowners who pay a hefty annual fee. Will the public-private model fly?\", \"TITLE\\n'5 New Hotels Where the Past Meets the Present,'\\nDESCRIPTION\\n',Turrets, towers and tapestries greet guests at these evocative hotels in reimagined historic buildings in London, New York and beyond. (The food’s not bad, either.)\", \"TITLE\\n'36 Hours in Mumbai,'\\nDESCRIPTION\\n',Explore ancient caves, catch a concert in a former textile mill, feast on mangoes and go on a poetry crawl in this fast-changing Indian city.\", \"TITLE\\n'Bold Tiles in 64 Different Shades,'\\nDESCRIPTION\\n',Plus: a Venetian retreat, hand-knotted rugs and more recommendations from T Magazine.\", \"TITLE\\n'Vacation Rentals: How to Shrink Your Carbon Footprint,'\\nDESCRIPTION\\n',Tips on finding a sustainable short-term rental, what you can do to conserve energy and getting involved in the community.\", \"TITLE\\n'Gardens of Stone, Moss, Sand: 4 Moments of Zen in Kyoto,'\\nDESCRIPTION\\n',The city’s dry gardens seem timeless, but as these relatively new versions show, their design is still evolving. They offer spots for quiet contemplation in an increasingly overtouristed city.\", \"TITLE\\n'Aurora Tourism in Iceland: You Can Seek, but You May Not Find,'\\nDESCRIPTION\\n',The country markets itself as a destination to see the northern lights — especially this year, which is a peak time for solar activity. But they can be elusive, as one writer recently found.\", \"TITLE\\n'How Do You Paddle a Disappearing River?,'\\nDESCRIPTION\\n',Canoeing the Rio Grande near Big Bend National Park can be magical. But as the river dries, it’s getting harder to find where a boat will actually float.\"]\n"
     ]
    }
   ],
   "source": [
    "##I am seeing in this if the articles are printing properly. \n",
    "from_date ='2023-11-07'\n",
    "to_date = '2024-02-02'\n",
    "section = 'travel'\n",
    "articles = get_article(from_date, to_date, section)\n",
    "print (articles)"
   ]
  },
  {
   "cell_type": "code",
   "execution_count": 127,
   "id": "b9f03937",
   "metadata": {},
   "outputs": [],
   "source": [
    "#now I will be using pandas to extract and store relevant data. \n",
    "\n",
    "#def article_extract (article_data):\n",
    "   # if not article_data:\n",
    "        #return None\n",
    "    \n",
    "   # data_extracted = []\n",
    "    #for article in article_data:\n",
    "        \n",
    "      #      if isinstance(article, dict): #using this for articles that are on dict\n",
    "       #         print(\"This article is a dictionary: \", article)"
   ]
  },
  {
   "cell_type": "code",
   "execution_count": 6,
   "id": "5e8784e8",
   "metadata": {},
   "outputs": [
    {
     "ename": "NameError",
     "evalue": "name 'get_article' is not defined",
     "output_type": "error",
     "traceback": [
      "\u001b[0;31m---------------------------------------------------------------------------\u001b[0m",
      "\u001b[0;31mNameError\u001b[0m                                 Traceback (most recent call last)",
      "Input \u001b[0;32mIn [6]\u001b[0m, in \u001b[0;36m<cell line: 26>\u001b[0;34m()\u001b[0m\n\u001b[1;32m     24\u001b[0m     \u001b[38;5;28;01mreturn\u001b[39;00m df\n\u001b[1;32m     25\u001b[0m \u001b[38;5;66;03m#getting info from get_article so it can extract and store the data. \u001b[39;00m\n\u001b[0;32m---> 26\u001b[0m article_data \u001b[38;5;241m=\u001b[39m \u001b[43mget_article\u001b[49m(\u001b[38;5;124m'\u001b[39m\u001b[38;5;124m2023-03-28\u001b[39m\u001b[38;5;124m'\u001b[39m, to_date \u001b[38;5;241m=\u001b[39m \u001b[38;5;124m'\u001b[39m\u001b[38;5;124m2024-03-28\u001b[39m\u001b[38;5;124m'\u001b[39m,section\u001b[38;5;241m=\u001b[39m\u001b[38;5;124m'\u001b[39m\u001b[38;5;124mtravel\u001b[39m\u001b[38;5;124m'\u001b[39m)\n\u001b[1;32m     27\u001b[0m df \u001b[38;5;241m=\u001b[39m article_extract(article_data)\n\u001b[1;32m     28\u001b[0m \u001b[38;5;28;01mif\u001b[39;00m df \u001b[38;5;129;01mis\u001b[39;00m \u001b[38;5;129;01mnot\u001b[39;00m \u001b[38;5;28;01mNone\u001b[39;00m:\n",
      "\u001b[0;31mNameError\u001b[0m: name 'get_article' is not defined"
     ]
    }
   ],
   "source": [
    "#now I will be using pandas to extract and store relevant data. \n",
    "def article_extract (article_data):\n",
    "    if not article_data:\n",
    "        return None\n",
    "    \n",
    "    data_extracted = []\n",
    "    for article in article_data:\n",
    "        \n",
    "            if isinstance(article, dict): #using this for articles that are on dict\n",
    "                Headline = article.get('headline').get('title','No title found')\n",
    "                Publication = article.get('publication', 'No date found')\n",
    "                Keyword = ', '.join(keyword.get('value','')for keyword in article.get('keywords',[]))\n",
    "                \n",
    "                data_extracted.append({\n",
    "                    'Headline': Headline,\n",
    "                    'Publication Date': Publication,\n",
    "                    'Keywords': Keyword\n",
    "                })\n",
    "                                    \n",
    "    \n",
    "    \n",
    "    \n",
    "    df = pd.DataFrame(data_extracted)\n",
    "    return df\n",
    "#getting info from get_article so it can extract and store the data. \n",
    "article_data = get_article('2023-03-28', to_date = '2024-03-28',section='travel')\n",
    "df = article_extract(article_data)\n",
    "if df is not None:\n",
    "    print(df)"
   ]
  },
  {
   "cell_type": "code",
   "execution_count": 136,
   "id": "e4c697c4",
   "metadata": {},
   "outputs": [],
   "source": []
  },
  {
   "cell_type": "code",
   "execution_count": 122,
   "id": "21072b81",
   "metadata": {
    "scrolled": true
   },
   "outputs": [
    {
     "name": "stdout",
     "output_type": "stream",
     "text": [
      "Keyword Counts:\n",
      "Empty DataFrame\n",
      "Columns: [Keyword, Count]\n",
      "Index: []\n"
     ]
    }
   ],
   "source": [
    "#find the occurrence of unique keyword\n",
    "\n",
    "\n",
    "def count_keywords(article_data):\n",
    "    if not article_data:\n",
    "        print(\"No articles found.\")\n",
    "        return None\n",
    "    \n",
    "    keywords_count = {}\n",
    "    \n",
    "    for article in article_data: #using the article to find the keywords used there. \n",
    "        if isinstance(article, dict):\n",
    "            keywords = [keyword.get('value', '') for keyword in article.get('keywords', [])]\n",
    "            for keyword in keywords:\n",
    "                keywords_count[keyword] = keywords_count.get(keyword, 0) + 1\n",
    "    \n",
    "    keyword_counts_df = pd.DataFrame({'Keyword': list(keywords_count.keys()), 'Count': list(keywords_count.values())})\n",
    "    keyword_counts_df = keyword_counts_df.sort_values(by='Count', ascending=False)\n",
    "    \n",
    "    return keyword_counts_df\n",
    "\n",
    "\n",
    "article_data = get_article('2023-11-07','2024-02-02','travel')\n",
    "keyword_counts_df = count_keywords(article_data)\n",
    "\n",
    "if keyword_counts_df is not None:\n",
    "    print(\"Keyword Counts:\")\n",
    "    print(keyword_counts_df)\n"
   ]
  },
  {
   "cell_type": "code",
   "execution_count": 120,
   "id": "fee90c73",
   "metadata": {},
   "outputs": [
    {
     "name": "stdout",
     "output_type": "stream",
     "text": [
      "These are the top ten used words: \n",
      "title\n",
      "'credit card swipe fees are going down. are points going with them?,'\n",
      "description\n",
      "',a new agreement by visa and mastercard to reduce fees charged to merchants may drain the lucrative rewards that grant free travel to many credit card users.:1\n",
      "These are the top ten used words: \n",
      "title\n",
      "'no eclipse plans? try these last-minute strategies.,'\n",
      "description\n",
      "',on april 8, parts of 13 u.s. states, mexico and canada will plunge into midday darkness. miss this spectacle and you’ll have to wait till 2044 for the next one so close to home.:1\n",
      "These are the top ten used words: \n",
      "title\n",
      "'can reed hastings disrupt skiing?,'\n",
      "description\n",
      "',the netflix co-founder bought powder mountain, in utah, and is turning half of it into a private club for wealthy homeowners who pay a hefty annual fee. will the public-private model fly?:1\n",
      "These are the top ten used words: \n",
      "title\n",
      "'5 new hotels where the past meets the present,'\n",
      "description\n",
      "',turrets, towers and tapestries greet guests at these evocative hotels in reimagined historic buildings in london, new york and beyond. (the food’s not bad, either.):1\n",
      "These are the top ten used words: \n",
      "title\n",
      "'36 hours in mumbai,'\n",
      "description\n",
      "',explore ancient caves, catch a concert in a former textile mill, feast on mangoes and go on a poetry crawl in this fast-changing indian city.:1\n",
      "These are the top ten used words: \n",
      "title\n",
      "'bold tiles in 64 different shades,'\n",
      "description\n",
      "',plus: a venetian retreat, hand-knotted rugs and more recommendations from t magazine.:1\n",
      "These are the top ten used words: \n",
      "title\n",
      "'vacation rentals: how to shrink your carbon footprint,'\n",
      "description\n",
      "',tips on finding a sustainable short-term rental, what you can do to conserve energy and getting involved in the community.:1\n",
      "These are the top ten used words: \n",
      "title\n",
      "'gardens of stone, moss, sand: 4 moments of zen in kyoto,'\n",
      "description\n",
      "',the city’s dry gardens seem timeless, but as these relatively new versions show, their design is still evolving. they offer spots for quiet contemplation in an increasingly overtouristed city.:1\n",
      "These are the top ten used words: \n",
      "title\n",
      "'aurora tourism in iceland: you can seek, but you may not find,'\n",
      "description\n",
      "',the country markets itself as a destination to see the northern lights — especially this year, which is a peak time for solar activity. but they can be elusive, as one writer recently found.:1\n",
      "These are the top ten used words: \n",
      "title\n",
      "'how do you paddle a disappearing river?,'\n",
      "description\n",
      "',canoeing the rio grande near big bend national park can be magical. but as the river dries, it’s getting harder to find where a boat will actually float.:1\n"
     ]
    }
   ],
   "source": [
    "#finding out how much certain words has been said. \n",
    "\n",
    "\n",
    "count = {} #this is creating new entrie. \n",
    "\n",
    "def word_counts (article_data):\n",
    "    if not article_data:\n",
    "        print(\"It was not in the article\")\n",
    "        return None\n",
    "    \n",
    "    count = {}\n",
    "    \n",
    "    for words in article_data:\n",
    "        #changing the words in lowercase\n",
    "        words = words.lower()\n",
    "        #if they are not in the case, then making it. \n",
    "        if words not in count:\n",
    "            count[words]=0\n",
    "        \n",
    "            \n",
    "            #word is increasing by 1\n",
    "        count[words]+= 1\n",
    "    return count\n",
    "        \n",
    "            \n",
    "            \n",
    "\n",
    "\n",
    "#helps with printing out the 10 words\n",
    "#word_ten = list(count.keys())[:10]\n",
    "#for words in word_ten:\n",
    "    #will be representing spaces in the print section\n",
    "    #print(\"{0:20}{1:8s}\".format(words,count[words]))\n",
    "\n",
    "    \n",
    "article_data = get_article('2023-11-07','2024-02-02','travel')\n",
    "word_count = word_counts(article_data)\n",
    "\n",
    "\n",
    "\n",
    "#printing the top ten words used\n",
    "for word, freq in word_count.items():\n",
    "    \n",
    "    print (\"These are the top ten used words: \")\n",
    "    print(f\"{word}:{freq}\")\n",
    "\n",
    "    \n",
    "\n",
    "    "
   ]
  },
  {
   "cell_type": "code",
   "execution_count": null,
   "id": "f870a65c",
   "metadata": {},
   "outputs": [],
   "source": []
  }
 ],
 "metadata": {
  "kernelspec": {
   "display_name": "Python 3 (ipykernel)",
   "language": "python",
   "name": "python3"
  },
  "language_info": {
   "codemirror_mode": {
    "name": "ipython",
    "version": 3
   },
   "file_extension": ".py",
   "mimetype": "text/x-python",
   "name": "python",
   "nbconvert_exporter": "python",
   "pygments_lexer": "ipython3",
   "version": "3.9.12"
  }
 },
 "nbformat": 4,
 "nbformat_minor": 5
}
